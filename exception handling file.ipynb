{
 "cells": [
  {
   "cell_type": "markdown",
   "metadata": {},
   "source": [
    "# Exception Handling\n",
    "while writing a bunch of code you might get a error in your code that makes your scrpit or program crash. so for avoiding that we use exception handling\n",
    "there are three block of codes for exception handling\n",
    "first is:\n",
    "1.try\n",
    "in this block of code we write our code which we want to execute\n",
    "2.except\n",
    "if there is an error in try block it will come to except block and execute it \n",
    "3.finally\n",
    "it will always run either there is error or not"
   ]
  },
  {
   "cell_type": "code",
   "execution_count": 4,
   "metadata": {},
   "outputs": [
    {
     "name": "stdout",
     "output_type": "stream",
     "text": [
      "Added successfully\n",
      "result is 9\n",
      "code executed\n"
     ]
    }
   ],
   "source": [
    "try:\n",
    "    result=1+8\n",
    "except:\n",
    "    print(\"It look's like your adding wrong data type\")\n",
    "else:\n",
    "    print(\"Added successfully\")\n",
    "    print(\"result is\",result)\n",
    "finally:\n",
    "    print(\"code executed\")"
   ]
  },
  {
   "cell_type": "code",
   "execution_count": 7,
   "metadata": {},
   "outputs": [
    {
     "name": "stdout",
     "output_type": "stream",
     "text": [
      "there is no file named: open.txt\n",
      "code Executed\n"
     ]
    }
   ],
   "source": [
    "filename=\"open.txt\"\n",
    "try:\n",
    "    f=open(filename,'r')\n",
    "    f.write(\"hello Pakistan how's the surprise\")\n",
    "except FileNotFoundError:\n",
    "    print(\"there is no file named:\",filename)\n",
    "except TypeError:\n",
    "    print(\"you can not do this action in this mode\")\n",
    "except:\n",
    "    print(\"there is an error occured\")\n",
    "finally:\n",
    "    print(\"code Executed\")"
   ]
  },
  {
   "cell_type": "code",
   "execution_count": 8,
   "metadata": {},
   "outputs": [],
   "source": [
    "def get_category():\n",
    "        while True:\n",
    "            h=str(input(\"enter the category here here\"))\n",
    "            m=h.lower()\n",
    "            if m == \"burgers\":  # if the category is burgers then it will print list of burgers\n",
    "                print('''1.special burger   \n",
    "            2.zinger Burger\n",
    "            3.Zinger Tower\n",
    "            4.crispy burger\n",
    "            5. hamer burger''')\n",
    "                break\n",
    "            elif m == \"pizzas\": # if the category is pizzas then it will print list of pizzas\n",
    "                print('''1.pizza tower \n",
    "            2.cheese pizza\n",
    "            3.fajita Pizza\n",
    "            4.pizza masala\n",
    "            5.special Fajita pizza''') \n",
    "                break\n",
    "            else:\n",
    "                print(\"wrong Input\")\n",
    "                continue\n"
   ]
  },
  {
   "cell_type": "code",
   "execution_count": 11,
   "metadata": {},
   "outputs": [
    {
     "name": "stdout",
     "output_type": "stream",
     "text": [
      "you can'nt take power of strings\n",
      "All done\n"
     ]
    }
   ],
   "source": [
    "try:\n",
    "    for i in ['a','b','c']:\n",
    "        print(i**2)\n",
    "except TypeError:\n",
    "    print(\"you can'nt take power of strings\")\n",
    "except:\n",
    "    print(\"wrong action\")\n",
    "else:\n",
    "    print(\"command executed\")\n",
    "finally:\n",
    "    print(\"All done\")"
   ]
  },
  {
   "cell_type": "code",
   "execution_count": 20,
   "metadata": {},
   "outputs": [],
   "source": [
    "p='hi ali how are you'\n",
    "f=p.split(' ')"
   ]
  },
  {
   "cell_type": "code",
   "execution_count": 22,
   "metadata": {},
   "outputs": [
    {
     "data": {
      "text/plain": [
       "'hi ali how are you'"
      ]
     },
     "execution_count": 22,
     "metadata": {},
     "output_type": "execute_result"
    }
   ],
   "source": [
    "' '.join(f)"
   ]
  },
  {
   "cell_type": "code",
   "execution_count": 19,
   "metadata": {},
   "outputs": [
    {
     "data": {
      "text/plain": [
       "'hi ali how are you'"
      ]
     },
     "execution_count": 19,
     "metadata": {},
     "output_type": "execute_result"
    }
   ],
   "source": [
    "p"
   ]
  },
  {
   "cell_type": "code",
   "execution_count": null,
   "metadata": {},
   "outputs": [],
   "source": []
  }
 ],
 "metadata": {
  "kernelspec": {
   "display_name": "Python 3",
   "language": "python",
   "name": "python3"
  },
  "language_info": {
   "codemirror_mode": {
    "name": "ipython",
    "version": 3
   },
   "file_extension": ".py",
   "mimetype": "text/x-python",
   "name": "python",
   "nbconvert_exporter": "python",
   "pygments_lexer": "ipython3",
   "version": "3.8.5"
  }
 },
 "nbformat": 4,
 "nbformat_minor": 4
}
